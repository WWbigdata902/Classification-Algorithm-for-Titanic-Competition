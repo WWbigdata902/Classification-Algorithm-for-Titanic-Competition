{
 "cells": [
  {
   "cell_type": "markdown",
   "metadata": {},
   "source": [
    "# 泰坦尼克号生还者预测竞赛"
   ]
  },
  {
   "cell_type": "markdown",
   "metadata": {},
   "source": [
    "### 1. 利用pandas库导入数据"
   ]
  },
  {
   "cell_type": "code",
   "execution_count": 6,
   "metadata": {
    "collapsed": false
   },
   "outputs": [
    {
     "data": {
      "text/html": [
       "<div>\n",
       "<table border=\"1\" class=\"dataframe\">\n",
       "  <thead>\n",
       "    <tr style=\"text-align: right;\">\n",
       "      <th></th>\n",
       "      <th>PassengerId</th>\n",
       "      <th>Survived</th>\n",
       "      <th>Pclass</th>\n",
       "      <th>Name</th>\n",
       "      <th>Sex</th>\n",
       "      <th>Age</th>\n",
       "      <th>SibSp</th>\n",
       "      <th>Parch</th>\n",
       "      <th>Ticket</th>\n",
       "      <th>Fare</th>\n",
       "      <th>Cabin</th>\n",
       "      <th>Embarked</th>\n",
       "    </tr>\n",
       "  </thead>\n",
       "  <tbody>\n",
       "    <tr>\n",
       "      <th>0</th>\n",
       "      <td>1</td>\n",
       "      <td>0</td>\n",
       "      <td>3</td>\n",
       "      <td>Braund, Mr. Owen Harris</td>\n",
       "      <td>male</td>\n",
       "      <td>22.0</td>\n",
       "      <td>1</td>\n",
       "      <td>0</td>\n",
       "      <td>A/5 21171</td>\n",
       "      <td>7.2500</td>\n",
       "      <td>NaN</td>\n",
       "      <td>S</td>\n",
       "    </tr>\n",
       "    <tr>\n",
       "      <th>1</th>\n",
       "      <td>2</td>\n",
       "      <td>1</td>\n",
       "      <td>1</td>\n",
       "      <td>Cumings, Mrs. John Bradley (Florence Briggs Th...</td>\n",
       "      <td>female</td>\n",
       "      <td>38.0</td>\n",
       "      <td>1</td>\n",
       "      <td>0</td>\n",
       "      <td>PC 17599</td>\n",
       "      <td>71.2833</td>\n",
       "      <td>C85</td>\n",
       "      <td>C</td>\n",
       "    </tr>\n",
       "    <tr>\n",
       "      <th>2</th>\n",
       "      <td>3</td>\n",
       "      <td>1</td>\n",
       "      <td>3</td>\n",
       "      <td>Heikkinen, Miss. Laina</td>\n",
       "      <td>female</td>\n",
       "      <td>26.0</td>\n",
       "      <td>0</td>\n",
       "      <td>0</td>\n",
       "      <td>STON/O2. 3101282</td>\n",
       "      <td>7.9250</td>\n",
       "      <td>NaN</td>\n",
       "      <td>S</td>\n",
       "    </tr>\n",
       "    <tr>\n",
       "      <th>3</th>\n",
       "      <td>4</td>\n",
       "      <td>1</td>\n",
       "      <td>1</td>\n",
       "      <td>Futrelle, Mrs. Jacques Heath (Lily May Peel)</td>\n",
       "      <td>female</td>\n",
       "      <td>35.0</td>\n",
       "      <td>1</td>\n",
       "      <td>0</td>\n",
       "      <td>113803</td>\n",
       "      <td>53.1000</td>\n",
       "      <td>C123</td>\n",
       "      <td>S</td>\n",
       "    </tr>\n",
       "    <tr>\n",
       "      <th>4</th>\n",
       "      <td>5</td>\n",
       "      <td>0</td>\n",
       "      <td>3</td>\n",
       "      <td>Allen, Mr. William Henry</td>\n",
       "      <td>male</td>\n",
       "      <td>35.0</td>\n",
       "      <td>0</td>\n",
       "      <td>0</td>\n",
       "      <td>373450</td>\n",
       "      <td>8.0500</td>\n",
       "      <td>NaN</td>\n",
       "      <td>S</td>\n",
       "    </tr>\n",
       "  </tbody>\n",
       "</table>\n",
       "</div>"
      ],
      "text/plain": [
       "   PassengerId  Survived  Pclass  \\\n",
       "0            1         0       3   \n",
       "1            2         1       1   \n",
       "2            3         1       3   \n",
       "3            4         1       1   \n",
       "4            5         0       3   \n",
       "\n",
       "                                                Name     Sex   Age  SibSp  \\\n",
       "0                            Braund, Mr. Owen Harris    male  22.0      1   \n",
       "1  Cumings, Mrs. John Bradley (Florence Briggs Th...  female  38.0      1   \n",
       "2                             Heikkinen, Miss. Laina  female  26.0      0   \n",
       "3       Futrelle, Mrs. Jacques Heath (Lily May Peel)  female  35.0      1   \n",
       "4                           Allen, Mr. William Henry    male  35.0      0   \n",
       "\n",
       "   Parch            Ticket     Fare Cabin Embarked  \n",
       "0      0         A/5 21171   7.2500   NaN        S  \n",
       "1      0          PC 17599  71.2833   C85        C  \n",
       "2      0  STON/O2. 3101282   7.9250   NaN        S  \n",
       "3      0            113803  53.1000  C123        S  \n",
       "4      0            373450   8.0500   NaN        S  "
      ]
     },
     "execution_count": 6,
     "metadata": {},
     "output_type": "execute_result"
    }
   ],
   "source": [
    "# 导入数据结构分析模块\n",
    "import pandas as pd\n",
    "\n",
    "# 读取训练数据以及测试数据集，并进行一些相应的预处理\n",
    "train_df = pd.read_csv(\"泰坦尼克数据集/train.csv\")\n",
    "test_df = pd.read_csv(\"泰坦尼克数据集/test.csv\")\n",
    "\n",
    "# 预览前5名乘客的数据，以便进行相应的处理\n",
    "#print(train_df.head(3))\n",
    "train_df.head()\n"
   ]
  },
  {
   "cell_type": "markdown",
   "metadata": {},
   "source": [
    "### 2.  清洗数据 "
   ]
  },
  {
   "cell_type": "code",
   "execution_count": 7,
   "metadata": {
    "collapsed": false
   },
   "outputs": [
    {
     "name": "stdout",
     "output_type": "stream",
     "text": [
      "<class 'pandas.core.frame.DataFrame'>\n",
      "RangeIndex: 891 entries, 0 to 890\n",
      "Data columns (total 9 columns):\n",
      "Survived    891 non-null int64\n",
      "Pclass      891 non-null int64\n",
      "Sex         891 non-null object\n",
      "Age         714 non-null float64\n",
      "SibSp       891 non-null int64\n",
      "Parch       891 non-null int64\n",
      "Fare        891 non-null float64\n",
      "Cabin       204 non-null object\n",
      "Embarked    889 non-null object\n",
      "dtypes: float64(2), int64(4), object(3)\n",
      "memory usage: 62.7+ KB\n",
      "None\n",
      "------------------------------------------------------------------\n",
      "<class 'pandas.core.frame.DataFrame'>\n",
      "RangeIndex: 418 entries, 0 to 417\n",
      "Data columns (total 9 columns):\n",
      "PassengerId    418 non-null int64\n",
      "Pclass         418 non-null int64\n",
      "Sex            418 non-null object\n",
      "Age            332 non-null float64\n",
      "SibSp          418 non-null int64\n",
      "Parch          418 non-null int64\n",
      "Fare           417 non-null float64\n",
      "Cabin          91 non-null object\n",
      "Embarked       418 non-null object\n",
      "dtypes: float64(2), int64(4), object(3)\n",
      "memory usage: 29.5+ KB\n",
      "None\n"
     ]
    }
   ],
   "source": [
    "# 能够发现，对于每一位乘客，训练数据集公统计了12项特征（信息），但是并不是每一项特征在分析预测中均有用，所以对数据需要进行相应的删减。\n",
    "# 由于DataFrame自身有索引目录（从0开始），所以不需要PassengerId以及Name，Ticket,对分析预测也没有用途，所以这三项可以剔除。\n",
    "train_df = train_df.drop(['PassengerId','Name','Ticket'],1)\n",
    "# 由于测试集需要预测乘客生还，所以Passengered需要保留\n",
    "test_df = test_df.drop(['Name','Ticket'],1)\n",
    "\n",
    "print(train_df.info())\n",
    "\n",
    "print(\"------------------------------------------------------------------\")\n",
    "\n",
    "print(test_df.info())\n"
   ]
  },
  {
   "cell_type": "markdown",
   "metadata": {},
   "source": [
    "### 3. 特征工程 "
   ]
  },
  {
   "cell_type": "code",
   "execution_count": 8,
   "metadata": {
    "collapsed": false,
    "scrolled": true
   },
   "outputs": [
    {
     "name": "stdout",
     "output_type": "stream",
     "text": [
      "<class 'pandas.core.frame.DataFrame'>\n",
      "RangeIndex: 418 entries, 0 to 417\n",
      "Data columns (total 10 columns):\n",
      "PassengerId    418 non-null int64\n",
      "Pclass         418 non-null int64\n",
      "Sex            418 non-null object\n",
      "Age            332 non-null float64\n",
      "SibSp          418 non-null int64\n",
      "Parch          418 non-null int64\n",
      "Fare           417 non-null float64\n",
      "Cabin          91 non-null object\n",
      "C              418 non-null uint8\n",
      "Q              418 non-null uint8\n",
      "dtypes: float64(2), int64(4), object(2), uint8(2)\n",
      "memory usage: 27.0+ KB\n",
      "None\n"
     ]
    },
    {
     "data": {
      "image/png": "[encoded data removed]",
      "text/plain": [
       "<matplotlib.figure.Figure at 0xac90390>"
      ]
     },
     "metadata": {},
     "output_type": "display_data"
    },
    {
     "data": {
      "image/png": "[encoded data removed]",
      "text/plain": [
       "<matplotlib.figure.Figure at 0xac78e10>"
      ]
     },
     "metadata": {},
     "output_type": "display_data"
    }
   ],
   "source": [
    "# 由上面的信息可以发现，训练集共有891名乘客的数据量，测试集中有418名乘客的数据量，并且测试集数据只给出了11项特征。\n",
    "# 将Embarked这一项数据中的缺失值用出现较多的 S 代替。\n",
    "train_df[\"Embarked\"] = train_df[\"Embarked\"].fillna(\"S\")\n",
    "\n",
    "import seaborn as sns\n",
    "import matplotlib.pyplot as plt\n",
    "%matplotlib inline\n",
    "sns.set_style('darkgrid') # 设置图格式为带网格暗色格式\n",
    "\n",
    "# 作分类图，Survived 在 Embarked上的分类\n",
    "sns.factorplot('Embarked','Survived',data=train_df,size=3,aspect=4)\n",
    "\n",
    "\n",
    "fig,(a1,a2,a3)=plt.subplots(1,3,figsize=(12,5))\n",
    "# 作分类计数图，按Embarked的各个取值进行计数。\n",
    "#sns.factorplot('Embarked',data=train_df,kind='count',order=['S','C','Q'])\n",
    "sns.countplot(x='Embarked',data=train_df,ax=a1)\n",
    "\n",
    "# 作分类计数图，统计Survived的技术，其中按照Embarked来进行分类技术\n",
    "#sns.factorplot(x='Survived',hue='Embarked',data=train_df,kind='count',order=[1,0])\n",
    "sns.countplot(x='Survived',hue='Embarked',data=train_df,order=[1,0],ax=a2)\n",
    "\n",
    "embark_perc = train_df[[\"Embarked\",\"Survived\"]].groupby([\"Embarked\"],as_index=False).mean()\n",
    "# print(embark_perc.head())\n",
    "sns.barplot(x='Embarked',y='Survived',data=embark_perc,order=['S','C','Q'],ax=a3)\n",
    "#sns.factorplot(x='Embarked',y='Survived',data=embark_perc,kind='bar',order=['S','C','Q'])\n",
    "\n",
    "# 这里相当于将原来的一个Embarked所取的三个值分开，这样原来的一个特征就变成了三个特征【S,C,Q】\n",
    "embark_dummies_train = pd.get_dummies(train_df[\"Embarked\"])\n",
    "embark_dummies_test = pd.get_dummies(test_df[\"Embarked\"])\n",
    "embark_dummies_train.drop(['S'],1,inplace=True)\n",
    "embark_dummies_test.drop(['S'],1,inplace=True)\n",
    "\n",
    "train_df = train_df.join(embark_dummies_train)\n",
    "test_df = test_df.join(embark_dummies_test)\n",
    "\n",
    "# 将原来的一个特征变成了三个以后，原来的一个特征就可以剔除\n",
    "train_df.drop([\"Embarked\"],1,inplace=True)\n",
    "test_df.drop([\"Embarked\"],1,inplace=True)\n",
    "\n",
    "print(test_df.info())\n",
    "\n",
    "\n",
    "\n"
   ]
  },
  {
   "cell_type": "code",
   "execution_count": 9,
   "metadata": {
    "collapsed": false
   },
   "outputs": [
    {
     "data": {
      "text/plain": [
       "<matplotlib.axes._subplots.AxesSubplot at 0xb415780>"
      ]
     },
     "execution_count": 9,
     "metadata": {},
     "output_type": "execute_result"
    },
    {
     "data": {
      "image/png": "[encoded data removed]",
      "text/plain": [
       "<matplotlib.figure.Figure at 0xb363ef0>"
      ]
     },
     "metadata": {},
     "output_type": "display_data"
    },
    {
     "data": {
      "image/png": "[encoded data removed]",
      "text/plain": [
       "<matplotlib.figure.Figure at 0xb363cc0>"
      ]
     },
     "metadata": {},
     "output_type": "display_data"
    }
   ],
   "source": [
    "# 接下来就分析另一项特征Fare的影响\n",
    "# 由前面的info可以发现，对于Fare这一项，只有test_df中有一个缺失值。\n",
    "# train_df[\"Fare\"].fillna(train_df[\"Fare\"].median(),inplace=True)\n",
    "\n",
    "from pandas import Series,DataFrame\n",
    "\n",
    "# 处理test_df数据集中Fare这一特征的缺失值,将缺失值用中位数替代\n",
    "test_df[\"Fare\"].fillna(test_df[\"Fare\"].median(),inplace=True)\n",
    "\n",
    "# 将Fare的属性值由浮点型变成整型\n",
    "train_df[\"Fare\"] = train_df[\"Fare\"].astype(int)\n",
    "test_df[\"Fare\"] = test_df[\"Fare\"].astype(int)\n",
    "\n",
    "# 找出Fare中的Survived以及not Survived的乘客\n",
    "fare_unsurvived = train_df[\"Fare\"][train_df[\"Survived\"] == 0]\n",
    "fare_survived = train_df[\"Fare\"][train_df[\"Survived\"] == 1]\n",
    "\n",
    "avgerge_fare = DataFrame([fare_unsurvived.mean(),fare_survived.mean()])\n",
    "std_fare = DataFrame([fare_unsurvived.std(),fare_survived.std()])\n",
    "\n",
    "# 统计Fare各个区间的频数直方图，此处只设定Fare值范围为（0，,100）\n",
    "train_df[\"Fare\"].plot(kind='hist',figsize=(12,3),bins=100,xlim=(0,100))\n",
    "\n",
    "avgerge_fare.index.names = std_fare.index.names = [\"Survived\"]\n",
    "avgerge_fare.plot(yerr=std_fare,kind='bar',legend=False)\n",
    "\n",
    "\n",
    "\n",
    "\n"
   ]
  },
  {
   "cell_type": "code",
   "execution_count": 10,
   "metadata": {
    "collapsed": false
   },
   "outputs": [
    {
     "name": "stderr",
     "output_type": "stream",
     "text": [
      "D:\\ProgramData\\Anaconda3\\envs\\tensorflow\\lib\\site-packages\\ipykernel\\__main__.py:30: SettingWithCopyWarning: \n",
      "A value is trying to be set on a copy of a slice from a DataFrame\n",
      "\n",
      "See the caveats in the documentation: http://pandas.pydata.org/pandas-docs/stable/indexing.html#indexing-view-versus-copy\n",
      "D:\\ProgramData\\Anaconda3\\envs\\tensorflow\\lib\\site-packages\\ipykernel\\__main__.py:31: SettingWithCopyWarning: \n",
      "A value is trying to be set on a copy of a slice from a DataFrame\n",
      "\n",
      "See the caveats in the documentation: http://pandas.pydata.org/pandas-docs/stable/indexing.html#indexing-view-versus-copy\n"
     ]
    },
    {
     "data": {
      "text/plain": [
       "<matplotlib.axes._subplots.AxesSubplot at 0xc4de7b8>"
      ]
     },
     "execution_count": 10,
     "metadata": {},
     "output_type": "execute_result"
    },
    {
     "data": {
      "image/png": "[encoded data removed]",
      "text/plain": [
       "<matplotlib.figure.Figure at 0xb24ceb8>"
      ]
     },
     "metadata": {},
     "output_type": "display_data"
    }
   ],
   "source": [
    "# 现在分析Age这一特征对Survived的影响\n",
    "import numpy as np\n",
    "# 首先，由之前数据集的info可知，Age数据有缺失值，所以需要进行预处理\n",
    "\n",
    "# 补上缺失值\n",
    "# 训练集区缺失值处理\n",
    "average_age_train = train_df[\"Age\"].mean()\n",
    "std_age_train = train_df[\"Age\"].std()\n",
    "num_NAN_age_train = train_df[\"Age\"].isnull().sum()   # 训练集Age缺失值数目\n",
    "\n",
    "# 测试集缺失值处理\n",
    "average_age_test = test_df[\"Age\"].mean()\n",
    "std_age_test = test_df[\"Age\"].std()\n",
    "num_NAN_age_test = test_df[\"Age\"].isnull().sum()   # 测试集Age缺失值数目\n",
    "\n",
    "# 此处可以做两个子图，其一，不考虑缺失值，其二，用随机生成的数补上缺失值\n",
    "\n",
    "fig,(b1,b2) = plt.subplots(2,1,figsize=(15,4))\n",
    "# 做直方图统计训练集中去除缺失值时各个年龄区间的乘客数目\n",
    "train_df[\"Age\"].dropna().astype(int).hist(bins=70,ax=b1)\n",
    "#test_df[\"Age\"].dropna().astype(int).hist(bins=70,ax=b1)\n",
    "\n",
    "# 生成训练集替补缺失值得得随机数,范围为：(mean-std,mean+std) \n",
    "rand1 = np.random.randint(average_age_train - std_age_train, average_age_train + std_age_train)\n",
    "\n",
    "# 生成测试集替补缺失值得得随机数,范围为：(mean-std,mean+std) \n",
    "rand2 = np.random.randint(average_age_test - std_age_test, average_age_test + std_age_test)\n",
    "\n",
    "# 为训练集和测试集补上缺失值\n",
    "train_df[\"Age\"][np.isnan(train_df[\"Age\"])] = rand1\n",
    "test_df[\"Age\"][np.isnan(test_df[\"Age\"])] = rand2\n",
    "\n",
    "# 将浮点型的Age属性值变换为整型的\n",
    "train_df[\"Age\"] = train_df[\"Age\"].astype(int)\n",
    "test_df[\"Age\"] = test_df[\"Age\"].astype(int)\n",
    "\n",
    "# 补全缺失值后画出Age的频数直方图\n",
    "train_df[\"Age\"].hist(bins=70,ax=b2)\n",
    "#test_df[\"Age\"].hist(bins=70,ax=b2)\n",
    "\n",
    "# 画出的是训练集在补上缺失值前后的频数直方图（乘客中各个年龄段的人数）\n",
    "\n"
   ]
  },
  {
   "cell_type": "code",
   "execution_count": 11,
   "metadata": {
    "collapsed": false,
    "scrolled": true
   },
   "outputs": [
    {
     "data": {
      "text/plain": [
       "<matplotlib.axes._subplots.AxesSubplot at 0xb2b5908>"
      ]
     },
     "execution_count": 11,
     "metadata": {},
     "output_type": "execute_result"
    },
    {
     "data": {
      "image/png": "[encoded data removed]",
      "text/plain": [
       "<matplotlib.figure.Figure at 0xaca5b00>"
      ]
     },
     "metadata": {},
     "output_type": "display_data"
    },
    {
     "data": {
      "image/png": "[encoded data removed]",
      "text/plain": [
       "<matplotlib.figure.Figure at 0xc615da0>"
      ]
     },
     "metadata": {},
     "output_type": "display_data"
    }
   ],
   "source": [
    "# 下面再来分析各个年龄段的乘客生还者，也就是联合考虑“Age”与“Survived”这两项特征\n",
    "\n",
    "# FacetGrid类是用来可视化一个变量的分布，或是在数据集中独立子集变量之间的关系的可视化的函数类\n",
    "facet = sns.FacetGrid(train_df,hue=\"Survived\",aspect=4)\n",
    "facet.map(sns.kdeplot,'Age',shade=True)\n",
    "facet.set(xlim=(0,train_df[\"Age\"].max()))\n",
    "facet.add_legend()\n",
    "\n",
    "# 各个年龄段的乘客生还数目平均数\n",
    "\n",
    "fig,axis1=plt.subplots(1,1,figsize=(15,4))\n",
    "average_age = train_df[[\"Age\",\"Survived\"]].groupby([\"Age\"],as_index=False).mean()\n",
    "sns.barplot(x='Age',y='Survived',data=average_age)\n",
    "\n"
   ]
  },
  {
   "cell_type": "code",
   "execution_count": 12,
   "metadata": {
    "collapsed": false
   },
   "outputs": [],
   "source": [
    "# 对于Cabin这一项， 由于缺失值太多，这里我们不分析这一特征，直接去掉这一特征\n",
    "train_df.drop(['Cabin'],1,inplace=True)\n",
    "test_df.drop(['Cabin'],1,inplace=True)\n"
   ]
  },
  {
   "cell_type": "code",
   "execution_count": 13,
   "metadata": {
    "collapsed": false
   },
   "outputs": [
    {
     "name": "stderr",
     "output_type": "stream",
     "text": [
      "D:\\ProgramData\\Anaconda3\\envs\\tensorflow\\lib\\site-packages\\pandas\\core\\indexing.py:141: SettingWithCopyWarning: \n",
      "A value is trying to be set on a copy of a slice from a DataFrame\n",
      "\n",
      "See the caveats in the documentation: http://pandas.pydata.org/pandas-docs/stable/indexing.html#indexing-view-versus-copy\n",
      "  self._setitem_with_indexer(indexer, value)\n"
     ]
    },
    {
     "data": {
      "text/plain": [
       "[<matplotlib.text.Text at 0xc4b9780>, <matplotlib.text.Text at 0xc7cc630>]"
      ]
     },
     "execution_count": 13,
     "metadata": {},
     "output_type": "execute_result"
    },
    {
     "data": {
      "image/png": "[encoded data removed]",
      "text/plain": [
       "<matplotlib.figure.Figure at 0xc803dd8>"
      ]
     },
     "metadata": {},
     "output_type": "display_data"
    }
   ],
   "source": [
    "# 现在考虑family因素的影响，在原来的数据中，将Parch特征与SibSp特征综合考虑为Family因素。\n",
    "train_df['Family'] = train_df[\"Parch\"] + train_df[\"SibSp\"]\n",
    "train_df['Family'].loc[train_df[\"Family\"] > 0] = 1\n",
    "train_df['Family'].loc[train_df[\"Family\"] == 0] = 0\n",
    "\n",
    "# 考虑测试集\n",
    "test_df['Family'] = test_df[\"Parch\"] + test_df[\"SibSp\"]\n",
    "test_df['Family'].loc[test_df[\"Family\"] > 0] = 1\n",
    "test_df['Family'].loc[test_df[\"Family\"] == 0] = 0\n",
    "\n",
    "# 将SibSp与Parch这两项特征合并后，就可以剔除\n",
    "train_df = train_df.drop(['SibSp','Parch'],axis=1)\n",
    "test_df = test_df.drop(['SibSp','Parch'],axis=1)\n",
    "\n",
    "fig,(c1,c2) = plt.subplots(1,2,sharex=True,figsize=(10,5))\n",
    "\n",
    "sns.countplot(x='Family',data=train_df,order=[1,0],ax=c1)\n",
    "\n",
    "family_perc = train_df[['Family','Survived']].groupby(['Family'],as_index=False).mean()\n",
    "sns.barplot(x='Family',y='Survived',data=family_perc,order=[1,0],ax=c2)\n",
    "\n",
    "c1.set_xticklabels(['With Family','Alone'],rotation=0)\n",
    "\n"
   ]
  },
  {
   "cell_type": "code",
   "execution_count": 14,
   "metadata": {
    "collapsed": false
   },
   "outputs": [
    {
     "data": {
      "image/png": "[encoded data removed]",
      "text/plain": [
       "<matplotlib.figure.Figure at 0xc8c4e80>"
      ]
     },
     "metadata": {},
     "output_type": "display_data"
    }
   ],
   "source": [
    "# 现在考虑性别对生存率的影响，由故事背景可知，性别对生存率影响极大，因为女士优先使用救生圈\n",
    "# 首先，将乘客分为三类，男性、女性、孩童,定义函数进行区分\n",
    "def get_person(passenger):\n",
    "    age,sex=passenger\n",
    "    return 'child' if age < 16 else sex\n",
    "\n",
    "# 运用上面定义的函数将训练集与测试集的乘客进行分类\n",
    "train_df['Person'] = train_df[['Age','Sex']].apply(get_person,axis=1) # axis =1 即将 get_person函数应用到train_df[['Age','Sex']]的每一行，每一行对应一位乘客\n",
    "test_df['Person'] = test_df[['Age','Sex']].apply(get_person,axis=1) # axis =1 即将 get_person函数应用到train_df[['Age','Sex']]的每一行\n",
    "\n",
    "# 增加了‘Person’列， 可以剔除‘Sex’特征\n",
    "train_df.drop(['Sex'],axis=1,inplace=True)\n",
    "test_df.drop(['Sex'],axis=1,inplace=True)\n",
    "\n",
    "# 将person这种类别变量转化为虚拟变量\n",
    "person_dummies_train = pd.get_dummies(train_df['Person'])\n",
    "person_dummies_train.columns = ['Child','Male','Female']\n",
    "person_dummies_train.drop(['Male'],axis=1,inplace=True)\n",
    "\n",
    "person_dummies_test = pd.get_dummies(test_df['Person'])\n",
    "person_dummies_test.columns = ['Child','Male','Female']\n",
    "person_dummies_test.drop(['Male'],axis=1,inplace=True)\n",
    "\n",
    "train_df = train_df.join(person_dummies_train)\n",
    "test_df = test_df.join(person_dummies_test)\n",
    "\n",
    "fig,(d1,d2) = plt.subplots(1,2,figsize=(10,5))\n",
    "sns.countplot(x='Person',data=train_df,ax=d1)\n",
    "\n",
    "person_perc = train_df[['Person','Survived']].groupby(['Person'],as_index=False).mean()\n",
    "sns.barplot(x='Person',y='Survived',data=person_perc,ax=d2,order=['male','female','child'])\n",
    "\n",
    "train_df.drop(['Person'],axis=1,inplace=True)\n",
    "test_df.drop(['Person'],axis=1,inplace=True)\n",
    "\n",
    "\n",
    "\n",
    "\n",
    "\n",
    "\n",
    "\n"
   ]
  },
  {
   "cell_type": "code",
   "execution_count": 15,
   "metadata": {
    "collapsed": false
   },
   "outputs": [
    {
     "name": "stdout",
     "output_type": "stream",
     "text": [
      "<class 'pandas.core.frame.DataFrame'>\n",
      "RangeIndex: 891 entries, 0 to 890\n",
      "Data columns (total 10 columns):\n",
      "Survived    891 non-null int64\n",
      "Age         891 non-null int32\n",
      "Fare        891 non-null int32\n",
      "C           891 non-null uint8\n",
      "Q           891 non-null uint8\n",
      "Family      891 non-null int64\n",
      "Child       891 non-null uint8\n",
      "Female      891 non-null uint8\n",
      "Class_1     891 non-null uint8\n",
      "Class_2     891 non-null uint8\n",
      "dtypes: int32(2), int64(2), uint8(6)\n",
      "memory usage: 26.2 KB\n",
      "----------------------------------------------------\n",
      "<class 'pandas.core.frame.DataFrame'>\n",
      "RangeIndex: 418 entries, 0 to 417\n",
      "Data columns (total 10 columns):\n",
      "PassengerId    418 non-null int64\n",
      "Age            418 non-null int32\n",
      "Fare           418 non-null int32\n",
      "C              418 non-null uint8\n",
      "Q              418 non-null uint8\n",
      "Family         418 non-null int64\n",
      "Child          418 non-null uint8\n",
      "Female         418 non-null uint8\n",
      "Class_1        418 non-null uint8\n",
      "Class_2        418 non-null uint8\n",
      "dtypes: int32(2), int64(2), uint8(6)\n",
      "memory usage: 12.3 KB\n"
     ]
    },
    {
     "data": {
      "image/png": "[encoded data removed]",
      "text/plain": [
       "<matplotlib.figure.Figure at 0xac90a20>"
      ]
     },
     "metadata": {},
     "output_type": "display_data"
    }
   ],
   "source": [
    "# 做分类图，Survivied在Pclass上的分类\n",
    "sns.factorplot('Pclass','Survived',order=[1,2,3],data=train_df,size=5)\n",
    "\n",
    "pclass_dummies_train = pd.get_dummies(train_df['Pclass'])\n",
    "pclass_dummies_train.columns = ['Class_1','Class_2','Class_3']\n",
    "pclass_dummies_train.drop(['Class_3'],axis=1,inplace=True)\n",
    "\n",
    "\n",
    "pclass_dummies_test = pd.get_dummies(test_df['Pclass'])\n",
    "pclass_dummies_test.columns = ['Class_1','Class_2','Class_3']\n",
    "pclass_dummies_test.drop(['Class_3'],axis=1,inplace=True)\n",
    "\n",
    "train_df.drop(['Pclass'],axis=1,inplace=True)\n",
    "test_df.drop(['Pclass'],axis=1,inplace=True)\n",
    "\n",
    "train_df = train_df.join(pclass_dummies_train)\n",
    "test_df = test_df.join(pclass_dummies_test)\n",
    "\n",
    "# 此时经过处理之后的训练集信息\n",
    "train_df.info()\n",
    "\n",
    "print('----------------------------------------------------')\n",
    "# 此时经过处理之后的测试集信息\n",
    "test_df.info()\n"
   ]
  },
  {
   "cell_type": "markdown",
   "metadata": {},
   "source": [
    "### 4. 分类器训练 "
   ]
  },
  {
   "cell_type": "markdown",
   "metadata": {},
   "source": [
    "本次实验采用逻辑回归、SVM、随机森林、KNN、NB五种典型的分类器，分别用上述构造的特征数据进行训练。"
   ]
  },
  {
   "cell_type": "code",
   "execution_count": 16,
   "metadata": {
    "collapsed": false
   },
   "outputs": [
    {
     "name": "stdout",
     "output_type": "stream",
     "text": [
      "-------------------------------------------------------------------------------\n",
      "LogisticRegression Score is: 0.809203142536\n",
      "-------------------------------------------------------------------------------\n",
      "SVM Score is: 0.854096520763\n",
      "---------------------------------------------------------------------------------\n",
      "RandomFroestClassifier Score is: 0.962962962963\n",
      "----------------------------------------------------------------------------------\n",
      "KNeighborsClassifier Score is: 0.835016835017\n",
      "-----------------------------------------------------------------------------------\n",
      "GaussianNB Score is: 0.745230078563\n",
      "------------------------------------------------------------------------------------\n"
     ]
    }
   ],
   "source": [
    "# 由上面对每一项的分析可以发现，测试集与训练集最后留下的都是10个特征属性，并且留下的特征都是对生存率有影响的特征属性\n",
    "# 下面可以利用机器学习的方法进行训练，可以利用不同的方法进行训练，需要导入不同的机器学习方法模块\n",
    "# 需要分析生还者预测，这是一个典型的二分类问题\n",
    "\n",
    "from sklearn.linear_model import LogisticRegression # 几何几率回归（是一种分类学习算法）\n",
    "from sklearn.svm import SVC,LinearSVC               # 支持向量机分类\n",
    "from sklearn.ensemble import RandomForestClassifier  # 随机森林分类\n",
    "from sklearn.neighbors import KNeighborsClassifier   # K近邻分类\n",
    "from sklearn.naive_bayes import GaussianNB           # 高斯朴素贝叶斯\n",
    "\n",
    "\n",
    "# 对于训练集，数据集为除了Survived之外的其他属性，Survived为回归输出结果\n",
    "X_train = train_df.drop(\"Survived\",axis=1)\n",
    "Y_train = train_df[\"Survived\"]\n",
    "X_test = test_df.drop(\"PassengerId\",axis=1).copy()\n",
    "\n",
    "print('-------------------------------------------------------------------------------')\n",
    "# 首先进行几何纪律回归分析\n",
    "LR = LogisticRegression()\n",
    "LR.fit(X_train,Y_train)   # 利用fit方法进行\n",
    "Y_pred_LR = LR.predict(X_test) # 这里返回的是每个样本经过分类后所属的类标签\n",
    "print('LogisticRegression Score is:',LR.score(X_train,Y_train))\n",
    "\n",
    "#print(Y_pred)\n",
    "print('-------------------------------------------------------------------------------')\n",
    "\n",
    "# 然后进行支持向量机分类法的学习,SVM是建立在统计机器学习上的一种分类算法\n",
    "svc = SVC()\n",
    "svc.fit(X_train,Y_train)\n",
    "Y_pred_SVM = svc.predict(X_test)\n",
    "print('SVM Score is:',svc.score(X_train,Y_train))\n",
    "\n",
    "print('---------------------------------------------------------------------------------')\n",
    "# 接下来进行随机森林分类算法学习\n",
    "RFC = RandomForestClassifier(n_estimators=100)\n",
    "RFC.fit(X_train,Y_train)\n",
    "Y_pred_RFC = RFC.predict(X_test)\n",
    "print('RandomFroestClassifier Score is:',RFC.score(X_train,Y_train))\n",
    "\n",
    "print('----------------------------------------------------------------------------------')\n",
    " \n",
    "# 在接下来进行KNeighborsClassifier分类的学习\n",
    "KNC = KNeighborsClassifier(n_neighbors =3)\n",
    "KNC.fit(X_train,Y_train)\n",
    "Y_pred_KNC = KNC.predict(X_test)\n",
    "print('KNeighborsClassifier Score is:',KNC.score(X_train,Y_train))\n",
    "\n",
    "print('-----------------------------------------------------------------------------------')\n",
    "# 最后进行高斯朴素贝叶斯分类学习\n",
    "GNB = GaussianNB()\n",
    "GNB.fit(X_train,Y_train)\n",
    "Y_pred_GNB = GNB.predict(X_test)\n",
    "print('GaussianNB Score is:',GNB.score(X_train,Y_train))\n",
    "print('------------------------------------------------------------------------------------')"
   ]
  },
  {
   "cell_type": "code",
   "execution_count": 17,
   "metadata": {
    "collapsed": false
   },
   "outputs": [
    {
     "data": {
      "text/html": [
       "<div>\n",
       "<table border=\"1\" class=\"dataframe\">\n",
       "  <thead>\n",
       "    <tr style=\"text-align: right;\">\n",
       "      <th></th>\n",
       "      <th>Features</th>\n",
       "      <th>Coefficient Estimate</th>\n",
       "    </tr>\n",
       "  </thead>\n",
       "  <tbody>\n",
       "    <tr>\n",
       "      <th>0</th>\n",
       "      <td>Age</td>\n",
       "      <td>-0.017278</td>\n",
       "    </tr>\n",
       "    <tr>\n",
       "      <th>1</th>\n",
       "      <td>Fare</td>\n",
       "      <td>0.001062</td>\n",
       "    </tr>\n",
       "    <tr>\n",
       "      <th>2</th>\n",
       "      <td>C</td>\n",
       "      <td>0.623710</td>\n",
       "    </tr>\n",
       "    <tr>\n",
       "      <th>3</th>\n",
       "      <td>Q</td>\n",
       "      <td>0.360246</td>\n",
       "    </tr>\n",
       "    <tr>\n",
       "      <th>4</th>\n",
       "      <td>Family</td>\n",
       "      <td>-0.310101</td>\n",
       "    </tr>\n",
       "    <tr>\n",
       "      <th>5</th>\n",
       "      <td>Child</td>\n",
       "      <td>-0.564224</td>\n",
       "    </tr>\n",
       "    <tr>\n",
       "      <th>6</th>\n",
       "      <td>Female</td>\n",
       "      <td>-2.815933</td>\n",
       "    </tr>\n",
       "    <tr>\n",
       "      <th>7</th>\n",
       "      <td>Class_1</td>\n",
       "      <td>2.035345</td>\n",
       "    </tr>\n",
       "    <tr>\n",
       "      <th>8</th>\n",
       "      <td>Class_2</td>\n",
       "      <td>1.161277</td>\n",
       "    </tr>\n",
       "  </tbody>\n",
       "</table>\n",
       "</div>"
      ],
      "text/plain": [
       "  Features  Coefficient Estimate\n",
       "0      Age             -0.017278\n",
       "1     Fare              0.001062\n",
       "2        C              0.623710\n",
       "3        Q              0.360246\n",
       "4   Family             -0.310101\n",
       "5    Child             -0.564224\n",
       "6   Female             -2.815933\n",
       "7  Class_1              2.035345\n",
       "8  Class_2              1.161277"
      ]
     },
     "execution_count": 17,
     "metadata": {},
     "output_type": "execute_result"
    }
   ],
   "source": [
    "# 利用几何几率回归分析得到的回归函数的系数\n",
    "coeff_df = DataFrame(train_df.columns.delete(0))\n",
    "coeff_df.columns = ['Features']\n",
    "coeff_df[\"Coefficient Estimate\"] = pd.Series(LR.coef_[0])\n",
    "\n",
    "coeff_df"
   ]
  },
  {
   "cell_type": "markdown",
   "metadata": {},
   "source": [
    "### 5. 分类结果 "
   ]
  },
  {
   "cell_type": "code",
   "execution_count": 18,
   "metadata": {
    "collapsed": false
   },
   "outputs": [],
   "source": [
    "# 将分析得到的测试集的预测结果以文件的形式输出保存\n",
    "submission1 = pd.DataFrame({\n",
    "        \"PassengerId\":test_df[\"PassengerId\"],\n",
    "        \"Survived\":Y_pred_LR\n",
    "    })\n",
    "\n",
    "submission1.to_csv('Test_Result_LR.csv',index=False)"
   ]
  },
  {
   "cell_type": "code",
   "execution_count": 19,
   "metadata": {
    "collapsed": true
   },
   "outputs": [],
   "source": [
    "submission2 = pd.DataFrame({\n",
    "        \"PassengerId\":test_df[\"PassengerId\"],\n",
    "        \"Survived\":Y_pred_SVM\n",
    "    })\n",
    "\n",
    "submission1.to_csv('Test_Result_SVM.csv',index=False)"
   ]
  },
  {
   "cell_type": "code",
   "execution_count": 20,
   "metadata": {
    "collapsed": true
   },
   "outputs": [],
   "source": [
    "submission3 = pd.DataFrame({\n",
    "        \"PassengerId\":test_df[\"PassengerId\"],\n",
    "        \"Survived\":Y_pred_RFC\n",
    "    })\n",
    "\n",
    "submission3.to_csv('Test_Result_RFC.csv',index=False)"
   ]
  },
  {
   "cell_type": "code",
   "execution_count": 21,
   "metadata": {
    "collapsed": true
   },
   "outputs": [],
   "source": [
    "submission4 = pd.DataFrame({\n",
    "        \"PassengerId\":test_df[\"PassengerId\"],\n",
    "        \"Survived\":Y_pred_KNC\n",
    "    })\n",
    "\n",
    "submission4.to_csv('Test_Result_KNC.csv',index=False)"
   ]
  },
  {
   "cell_type": "code",
   "execution_count": 22,
   "metadata": {
    "collapsed": true
   },
   "outputs": [],
   "source": [
    "submission5 = pd.DataFrame({\n",
    "        \"PassengerId\":test_df[\"PassengerId\"],\n",
    "        \"Survived\":Y_pred_GNB\n",
    "    })\n",
    "\n",
    "submission5.to_csv('Test_Result_GNB.csv',index=False)"
   ]
  }
 ],
 "metadata": {
  "kernelspec": {
   "display_name": "Python 3",
   "language": "python",
   "name": "python3"
  },
  "language_info": {
   "codemirror_mode": {
    "name": "ipython",
    "version": 3
   },
   "file_extension": ".py",
   "mimetype": "text/x-python",
   "name": "python",
   "nbconvert_exporter": "python",
   "pygments_lexer": "ipython3",
   "version": "3.5.2"
  }
 },
 "nbformat": 4,
 "nbformat_minor": 1
}
